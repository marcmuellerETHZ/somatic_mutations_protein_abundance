{
 "cells": [
  {
   "cell_type": "markdown",
   "id": "5749fce9",
   "metadata": {},
   "source": [
    "# Summary statistics"
   ]
  },
  {
   "cell_type": "code",
   "execution_count": 1,
   "id": "6a94bed7",
   "metadata": {},
   "outputs": [],
   "source": [
    "#Computation\n",
    "import warnings\n",
    "import numpy as np\n",
    "import pandas as pd\n",
    "import sklearn as skl\n",
    "import scipy as sp\n",
    "import re\n",
    "import math\n",
    "import os\n",
    "import time\n",
    "from datetime import datetime\n",
    "import gc\n",
    "\n",
    "from sklearn import metrics\n",
    "from sklearn.mixture import GaussianMixture\n",
    "from collections import defaultdict\n",
    "from tqdm import tqdm\n",
    "\n",
    "import scipy.stats as stats\n",
    "import statsmodels.api as sm\n",
    "from statsmodels.tools import add_constant\n",
    "from statsmodels.stats.multitest import multipletests\n",
    "from Bio import SeqIO\n",
    "\n",
    "#Plotting\n",
    "import matplotlib.pyplot as plt\n",
    "import seaborn as sns\n",
    "from matplotlib.ticker import ScalarFormatter\n",
    "from adjustText import adjust_text\n",
    "\n",
    "#Style\n",
    "sns.set(style=\"white\")\n",
    "sns.set_palette('Paired')\n",
    "%matplotlib inline"
   ]
  },
  {
   "cell_type": "code",
   "execution_count": 2,
   "id": "e964ab13",
   "metadata": {},
   "outputs": [],
   "source": [
    "folder_name = \"data_processing_240523_1257\"\n",
    "\n",
    "# read computed files\n",
    "full_path = os.path.join(\"data_computed\", folder_name)\n",
    "dat_omics = pd.read_csv(os.path.join(full_path, \"omics.txt\"), sep=\"\\t\")\n",
    "dat_lrt = pd.read_csv(os.path.join(full_path, \"lrt.txt\"), sep=\"\\t\")\n",
    "dat_vep_omics = pd.read_csv(os.path.join(full_path, \"vep_omics.txt\"), sep=\"\\t\")\n",
    "df_batch_counts = pd.read_csv(os.path.join(full_path, \"batch_counts.txt\"), sep=\"\\t\")"
   ]
  },
  {
   "cell_type": "code",
   "execution_count": 3,
   "id": "7dc7c1a5",
   "metadata": {},
   "outputs": [],
   "source": [
    "n_samples = dat_omics[['sample']].nunique()\n",
    "n_batches = dat_omics[['batch']].nunique()\n",
    "mutations_per_sample = dat_vep_omics.groupby('sample').size().reset_index(name='mutations_count')\n",
    "median_ms_mutations_per_sample = mutations_per_sample['mutations_count'].median()"
   ]
  },
  {
   "cell_type": "code",
   "execution_count": 4,
   "id": "692670fc",
   "metadata": {},
   "outputs": [
    {
     "name": "stdout",
     "output_type": "stream",
     "text": [
      "7.0\n",
      "sample    647\n",
      "dtype: int64\n",
      "batch    6\n",
      "dtype: int64\n"
     ]
    }
   ],
   "source": [
    "print(median_ms_mutations_per_sample)\n",
    "print(n_samples)\n",
    "print(n_batches)"
   ]
  },
  {
   "cell_type": "code",
   "execution_count": null,
   "id": "df95340c",
   "metadata": {},
   "outputs": [],
   "source": []
  }
 ],
 "metadata": {
  "kernelspec": {
   "display_name": "Python [conda env:sp2] *",
   "language": "python",
   "name": "conda-env-sp2-py"
  },
  "language_info": {
   "codemirror_mode": {
    "name": "ipython",
    "version": 3
   },
   "file_extension": ".py",
   "mimetype": "text/x-python",
   "name": "python",
   "nbconvert_exporter": "python",
   "pygments_lexer": "ipython3",
   "version": "3.10.4"
  }
 },
 "nbformat": 4,
 "nbformat_minor": 5
}
