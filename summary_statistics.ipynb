{
 "cells": [
  {
   "cell_type": "markdown",
   "id": "5749fce9",
   "metadata": {},
   "source": [
    "# Summary statistics"
   ]
  },
  {
   "cell_type": "code",
   "execution_count": 1,
   "id": "6a94bed7",
   "metadata": {},
   "outputs": [],
   "source": [
    "#Computation\n",
    "import warnings\n",
    "import numpy as np\n",
    "import pandas as pd\n",
    "import sklearn as skl\n",
    "import scipy as sp\n",
    "import re\n",
    "import math\n",
    "import os\n",
    "import time\n",
    "from datetime import datetime\n",
    "import gc\n",
    "\n",
    "from sklearn import metrics\n",
    "from sklearn.mixture import GaussianMixture\n",
    "from collections import defaultdict\n",
    "from tqdm import tqdm\n",
    "\n",
    "import scipy.stats as stats\n",
    "import statsmodels.api as sm\n",
    "from statsmodels.tools import add_constant\n",
    "from statsmodels.stats.multitest import multipletests\n",
    "from Bio import SeqIO\n",
    "\n",
    "#Plotting\n",
    "import matplotlib.pyplot as plt\n",
    "import seaborn as sns\n",
    "from matplotlib.ticker import ScalarFormatter\n",
    "from adjustText import adjust_text\n",
    "\n",
    "#Style\n",
    "sns.set(style=\"white\")\n",
    "sns.set_palette('Paired')\n",
    "%matplotlib inline"
   ]
  },
  {
   "cell_type": "code",
   "execution_count": 2,
   "id": "e964ab13",
   "metadata": {},
   "outputs": [],
   "source": [
    "folder_name = \"data_processing_240525_1828\"\n",
    "\n",
    "# read computed files\n",
    "full_path = os.path.join(\"data_computed\", folder_name)\n",
    "dat_omics = pd.read_csv(os.path.join(full_path, \"omics.txt\"), sep=\"\\t\")\n",
    "dat_lrt = pd.read_csv(os.path.join(full_path, \"lrt.txt\"), sep=\"\\t\")\n",
    "dat_vep_omics = pd.read_csv(os.path.join(full_path, \"vep_omics.txt\"), sep=\"\\t\")\n",
    "df_batch_counts = pd.read_csv(os.path.join(full_path, \"batch_counts.txt\"), sep=\"\\t\")"
   ]
  },
  {
   "cell_type": "code",
   "execution_count": 3,
   "id": "ba9170cd",
   "metadata": {},
   "outputs": [],
   "source": [
    "# function to read parameters used for data processing from file\n",
    "def read_parameter(parameter):\n",
    "    with open(os.path.join(full_path, \"parameters.txt\"), 'r') as f:\n",
    "        for line in f:\n",
    "            # Check if 'min_pdockq' is in the line\n",
    "            if parameter in line:\n",
    "                # Split the line on ': ' and strip any whitespace or newline characters\n",
    "                _, value = line.split(': ')\n",
    "                # Convert the value to float\n",
    "                return float(value.strip())"
   ]
  },
  {
   "cell_type": "code",
   "execution_count": 4,
   "id": "2ad896ea",
   "metadata": {},
   "outputs": [
    {
     "name": "stdout",
     "output_type": "stream",
     "text": [
      "-------------------------------------------------\n",
      "Current parameter values:\n",
      "Min. pDockQ: 0.23\n",
      "Min. RNA-Px correlation: -1.0\n",
      "FDR alpha: 0.01\n",
      "-------------------------------------------------\n"
     ]
    }
   ],
   "source": [
    "min_pdockq = read_parameter(\"min_pdockq\")\n",
    "correlation_cutoff = read_parameter(\"correlation_cutoff\")\n",
    "fdr_alpha = read_parameter(\"fdr_alpha\")\n",
    "\n",
    "\n",
    "print(\"-------------------------------------------------\")\n",
    "print(\"Current parameter values:\")\n",
    "print(f\"Min. pDockQ: {min_pdockq}\")\n",
    "print(f\"Min. RNA-Px correlation: {correlation_cutoff}\")\n",
    "print(f\"FDR alpha: {fdr_alpha}\")\n",
    "print(\"-------------------------------------------------\")"
   ]
  },
  {
   "cell_type": "code",
   "execution_count": 5,
   "id": "cc25e9eb",
   "metadata": {},
   "outputs": [],
   "source": [
    "#-------------------------------------------------------- PARAMETER --------------------------------------------------------#\n",
    "# re-define correlation_cutoff for analysis\n",
    "correlation_cutoff = 0.3\n",
    "#---------------------------------------------------------------------------------------------------------------------------#"
   ]
  },
  {
   "cell_type": "markdown",
   "id": "bbdb049f",
   "metadata": {},
   "source": [
    "## STABILITY"
   ]
  },
  {
   "cell_type": "code",
   "execution_count": 6,
   "id": "7dc7c1a5",
   "metadata": {},
   "outputs": [],
   "source": [
    "n_samples = dat_omics['sample'].nunique()\n",
    "n_genes = dat_omics['gene'].nunique()\n",
    "n_batches = dat_omics['batch'].nunique()\n",
    "\n",
    "mutations_per_sample = dat_vep_omics.groupby('sample').size().reset_index(name='mutations_count')\n",
    "median_ms_mutations_per_sample = mutations_per_sample['mutations_count'].median()"
   ]
  },
  {
   "cell_type": "code",
   "execution_count": 7,
   "id": "692670fc",
   "metadata": {},
   "outputs": [
    {
     "name": "stdout",
     "output_type": "stream",
     "text": [
      "Number of multi-omics samples: 644\n",
      "Number of genes with >25% multi-omics coverage: 8791\n",
      "Median missense mutations per sample: 17\n",
      "Number of tumor types: 6\n"
     ]
    }
   ],
   "source": [
    "print(f'Number of multi-omics samples: {n_samples}')\n",
    "print(f'Number of genes with >25% multi-omics coverage: {n_genes}')\n",
    "print(f'Median missense mutations per sample: {int(median_ms_mutations_per_sample)}')\n",
    "print(f'Number of tumor types: {n_batches}')"
   ]
  },
  {
   "cell_type": "code",
   "execution_count": 8,
   "id": "98599e95",
   "metadata": {},
   "outputs": [
    {
     "name": "stdout",
     "output_type": "stream",
     "text": [
      "Number of genes discarded for VEP/stability analysis due to low RNA-Px correlation: 1465\n"
     ]
    }
   ],
   "source": [
    "n_genes_before_correlation_cutoff = dat_vep_omics['gene'].nunique()\n",
    "\n",
    "# Only consider genes with some level of RNA-protein concordance\n",
    "dat_vep_omics = dat_vep_omics[dat_vep_omics['corr_value_tx_value_px']>correlation_cutoff]\n",
    "\n",
    "n_genes_after_correlation_cutoff = dat_vep_omics['gene'].nunique()\n",
    "\n",
    "n_genes_discarded = n_genes_before_correlation_cutoff - n_genes_after_correlation_cutoff\n",
    "\n",
    "print(f\"Number of genes discarded for VEP/stability analysis due to low RNA-Px correlation: {n_genes_discarded}\")"
   ]
  },
  {
   "cell_type": "code",
   "execution_count": 9,
   "id": "df95340c",
   "metadata": {},
   "outputs": [
    {
     "name": "stdout",
     "output_type": "stream",
     "text": [
      "Number of variants analysed: 11802\n"
     ]
    }
   ],
   "source": [
    "#Drop the few \"stabilizing\" FoldX calls\n",
    "dat_vep_omics = dat_vep_omics[dat_vep_omics['FoldX_cat']!='stabilizing']\n",
    "\n",
    "# Drop cases with incomplete FoldX/AlphaMissense categorization, count categories\n",
    "dat_vep_cats = dat_vep_omics[['FoldX_cat', 'AM_cat']].dropna(axis=0)\n",
    "vep_counts = dat_vep_cats.groupby(['FoldX_cat', 'AM_cat']).size().reset_index(name='count')\n",
    "n_variants_analysed = vep_counts['count'].sum()\n",
    "print(f\"Number of variants analysed: {n_variants_analysed}\")"
   ]
  },
  {
   "cell_type": "code",
   "execution_count": 10,
   "id": "790e0943",
   "metadata": {},
   "outputs": [],
   "source": [
    "destabilizing_variants = vep_counts[vep_counts['FoldX_cat']=='destabilizing']['count'].sum()\n",
    "pathogenic_variants = vep_counts[vep_counts['AM_cat']=='pathogenic']['count'].sum()\n",
    "\n",
    "pathogenic_and_destabilizing = vep_counts[(vep_counts['AM_cat']=='pathogenic')&(vep_counts['FoldX_cat']=='destabilizing')]['count'].iloc[0]\n",
    "\n",
    "pathogenic_given_destabilizing = 100*pathogenic_and_destabilizing/destabilizing_variants\n",
    "destabilizing_given_pathogenic = 100*pathogenic_and_destabilizing/pathogenic_variants"
   ]
  },
  {
   "cell_type": "code",
   "execution_count": 11,
   "id": "a941ebbf",
   "metadata": {
    "scrolled": false
   },
   "outputs": [
    {
     "name": "stdout",
     "output_type": "stream",
     "text": [
      "P(pathogenic|destabilizing) = 69.4%\n",
      "P(destabilizing|pathogenic) = 42.9%\n"
     ]
    }
   ],
   "source": [
    "print(f'P(pathogenic|destabilizing) = {round(pathogenic_given_destabilizing, 1)}%')\n",
    "print(f'P(destabilizing|pathogenic) = {round(destabilizing_given_pathogenic, 1)}%')"
   ]
  },
  {
   "cell_type": "markdown",
   "id": "764d2e65",
   "metadata": {},
   "source": [
    "## pQTLs"
   ]
  },
  {
   "cell_type": "code",
   "execution_count": 12,
   "id": "9c6deeb1",
   "metadata": {},
   "outputs": [],
   "source": [
    "dat_lrt_copy = dat_lrt.copy()\n",
    "\n",
    "dat_lrt_copy['beta_sig'] = dat_lrt_copy.apply(lambda row:\n",
    "                                              f'p < {fdr_alpha} / CNV Beta > 0' if (row['p_LRT_adj'] < fdr_alpha and row['param_value_cnv_B'] > 0) else\n",
    "                                              f'n.s. / CNV Beta > 0' if (row['p_LRT_adj'] > fdr_alpha and row['param_value_cnv_B'] > 0) else\n",
    "                                              f'p < {fdr_alpha} / CNV Beta < 0' if (row['p_LRT_adj'] < fdr_alpha and row['param_value_cnv_B'] < 0) else \n",
    "                                              f'n.s. / CNV Beta < 0', axis=1)\n",
    "\n",
    "order_list = [f'p < {fdr_alpha} / CNV Beta > 0', f'n.s. / CNV Beta > 0', f'p < {fdr_alpha} / CNV Beta < 0', f'n.s. / CNV Beta < 0']\n",
    "\n",
    "n_pos_ns = dat_lrt_copy[dat_lrt_copy['beta_sig'] == f'n.s. / CNV Beta > 0'].shape[0]\n",
    "n_pos_s = dat_lrt_copy[dat_lrt_copy['beta_sig'] == f'p < {fdr_alpha} / CNV Beta > 0'].shape[0]\n",
    "n_neg_ns = dat_lrt_copy[dat_lrt_copy['beta_sig'] == f'n.s. / CNV Beta < 0'].shape[0]\n",
    "n_neg_s = dat_lrt_copy[dat_lrt_copy['beta_sig'] == f'p < {fdr_alpha} / CNV Beta < 0'].shape[0]"
   ]
  },
  {
   "cell_type": "code",
   "execution_count": 13,
   "id": "6f701ebb",
   "metadata": {},
   "outputs": [
    {
     "name": "stdout",
     "output_type": "stream",
     "text": [
      "Number of interactions with controlling/controlled behavior at FDR 0.01 : 727\n",
      "Of all interactions with a significant CNV association, 82.0 had a positive Beta\n"
     ]
    }
   ],
   "source": [
    "print(f\"Number of interactions with controlling/controlled behavior at FDR {fdr_alpha} : {n_pos_s}\")\n",
    "print(f\"Of all interactions with a significant CNV association, {round(100*n_pos_s/(n_pos_s+n_neg_s), 1)} had a positive Beta\")"
   ]
  },
  {
   "cell_type": "code",
   "execution_count": null,
   "id": "3d20374e",
   "metadata": {},
   "outputs": [],
   "source": []
  }
 ],
 "metadata": {
  "kernelspec": {
   "display_name": "Python [conda env:sp2] *",
   "language": "python",
   "name": "conda-env-sp2-py"
  },
  "language_info": {
   "codemirror_mode": {
    "name": "ipython",
    "version": 3
   },
   "file_extension": ".py",
   "mimetype": "text/x-python",
   "name": "python",
   "nbconvert_exporter": "python",
   "pygments_lexer": "ipython3",
   "version": "3.10.4"
  }
 },
 "nbformat": 4,
 "nbformat_minor": 5
}
