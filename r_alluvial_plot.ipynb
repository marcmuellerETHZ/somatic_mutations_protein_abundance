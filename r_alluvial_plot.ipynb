{
 "cells": [
  {
   "cell_type": "code",
   "execution_count": 1,
   "id": "6ce96370",
   "metadata": {},
   "outputs": [
    {
     "name": "stderr",
     "output_type": "stream",
     "text": [
      "Warning message:\n",
      "\"Paket 'tidyverse' wurde unter R Version 4.1.3 erstellt\"\n",
      "Warning message:\n",
      "\"Paket 'tibble' wurde unter R Version 4.1.3 erstellt\"\n",
      "Warning message:\n",
      "\"Paket 'tidyr' wurde unter R Version 4.1.3 erstellt\"\n",
      "Warning message:\n",
      "\"Paket 'readr' wurde unter R Version 4.1.3 erstellt\"\n",
      "Warning message:\n",
      "\"Paket 'purrr' wurde unter R Version 4.1.3 erstellt\"\n",
      "Warning message:\n",
      "\"Paket 'dplyr' wurde unter R Version 4.1.3 erstellt\"\n",
      "Warning message:\n",
      "\"Paket 'stringr' wurde unter R Version 4.1.3 erstellt\"\n",
      "Warning message:\n",
      "\"Paket 'forcats' wurde unter R Version 4.1.3 erstellt\"\n",
      "Warning message:\n",
      "\"Paket 'lubridate' wurde unter R Version 4.1.3 erstellt\"\n",
      "-- \u001b[1mAttaching core tidyverse packages\u001b[22m ---------------------------------------------------------------- tidyverse 2.0.0 --\n",
      "\u001b[32mv\u001b[39m \u001b[34mdplyr    \u001b[39m 1.1.2     \u001b[32mv\u001b[39m \u001b[34mreadr    \u001b[39m 2.1.4\n",
      "\u001b[32mv\u001b[39m \u001b[34mforcats  \u001b[39m 1.0.0     \u001b[32mv\u001b[39m \u001b[34mstringr  \u001b[39m 1.5.0\n",
      "\u001b[32mv\u001b[39m \u001b[34mggplot2  \u001b[39m 3.4.3     \u001b[32mv\u001b[39m \u001b[34mtibble   \u001b[39m 3.2.1\n",
      "\u001b[32mv\u001b[39m \u001b[34mlubridate\u001b[39m 1.9.2     \u001b[32mv\u001b[39m \u001b[34mtidyr    \u001b[39m 1.3.0\n",
      "\u001b[32mv\u001b[39m \u001b[34mpurrr    \u001b[39m 1.0.1     \n",
      "-- \u001b[1mConflicts\u001b[22m ---------------------------------------------------------------------------------- tidyverse_conflicts() --\n",
      "\u001b[31mx\u001b[39m \u001b[34mdplyr\u001b[39m::\u001b[32mfilter()\u001b[39m masks \u001b[34mstats\u001b[39m::filter()\n",
      "\u001b[31mx\u001b[39m \u001b[34mdplyr\u001b[39m::\u001b[32mlag()\u001b[39m    masks \u001b[34mstats\u001b[39m::lag()\n",
      "\u001b[36mi\u001b[39m Use the conflicted package (\u001b[3m\u001b[34m<http://conflicted.r-lib.org/>\u001b[39m\u001b[23m) to force all conflicts to become errors\n",
      "Warning message:\n",
      "\"Paket 'ggalluvial' wurde unter R Version 4.1.3 erstellt\"\n",
      "Warning message:\n",
      "\"Paket 'repr' wurde unter R Version 4.1.3 erstellt\"\n"
     ]
    }
   ],
   "source": [
    "library(tidyverse)\n",
    "library(ggalluvial)\n",
    "library(repr)"
   ]
  },
  {
   "cell_type": "code",
   "execution_count": 2,
   "id": "c99694c9",
   "metadata": {},
   "outputs": [
    {
     "name": "stderr",
     "output_type": "stream",
     "text": [
      "Warning message in file(file, \"rt\"):\n",
      "\"kann Datei 'data_computed/data_processing_240525_1828/figures/vep_counts.txt' nicht öffnen: No such file or directory\"\n"
     ]
    },
    {
     "ename": "ERROR",
     "evalue": "Error in file(file, \"rt\"): kann Verbindung nicht öffnen\n",
     "output_type": "error",
     "traceback": [
      "Error in file(file, \"rt\"): kann Verbindung nicht öffnen\nTraceback:\n",
      "1. read.table(file.path(full_path, \"figures/vep_counts.txt\"), sep = \"\\t\", \n .     header = TRUE)",
      "2. file(file, \"rt\")"
     ]
    }
   ],
   "source": [
    "folder_name = \"data_processing_240525_1828\"\n",
    "full_path = file.path(\"data_computed\", folder_name)\n",
    "vep_counts_raw = read.table(file.path(full_path, \"figures/vep_counts.txt\"), sep=\"\\t\", header=TRUE)"
   ]
  },
  {
   "cell_type": "code",
   "execution_count": null,
   "id": "b064a399",
   "metadata": {},
   "outputs": [],
   "source": [
    "vep_counts = vep_counts_raw %>%\n",
    "    filter(FoldX_cat %in% c(\"destabilizing\", \"neutral\")) %>%\n",
    "    mutate(AM_cat = case_when(\n",
    "        AM_cat == 'ambiguous' ~ 'amb.',\n",
    "        TRUE ~ AM_cat)\n",
    "    )\n",
    "\n",
    "vep_counts$FoldX_cat = factor(vep_counts$FoldX_cat, levels = c('neutral', 'destabilizing'))\n",
    "vep_counts$AM_cat = factor(vep_counts$AM_cat, levels = c('benign', 'amb.', 'pathogenic'))\n",
    "vep_counts$ESM_cat = factor(vep_counts$ESM_cat, levels = c('benign','pathogenic'))"
   ]
  },
  {
   "cell_type": "code",
   "execution_count": null,
   "id": "e9c921a0",
   "metadata": {},
   "outputs": [],
   "source": [
    "options(repr.plot.width=6, repr.plot.height=2.5)\n",
    "ggplot(data = vep_counts,\n",
    "       aes(axis1 = FoldX_cat,\n",
    "           axis2 = AM_cat,\n",
    "           axis3 = ESM_cat,\n",
    "           y = count)) +\n",
    "    geom_alluvium(aes(fill = FoldX_cat), width=1/2, alpha=0.9) +\n",
    "    geom_stratum(alpha=0.7, width=1/2) +\n",
    "    geom_text(stat = \"stratum\",\n",
    "              aes(label = after_stat(stratum)), size=3) +\n",
    "    scale_fill_manual(values=c('grey60', '#e55c5c'))+\n",
    "    scale_x_discrete(limits = c(\"FoldX\", \"AlphaMissense\", \"ESM1b\")) +\n",
    "    ylab('No. mutations') +\n",
    "    coord_flip() +\n",
    "    theme_classic() +\n",
    "    theme(axis.text = element_text(color = \"black\"))\n",
    "\n",
    "figure_path = file.path(full_path, \"figures/alluvial.pdf\")\n",
    "ggsave(filename = figure_path, plot = last_plot(), width = 6, height = 2.5, device = cairo_pdf, dpi = 300)"
   ]
  },
  {
   "cell_type": "code",
   "execution_count": null,
   "id": "9f06f234",
   "metadata": {},
   "outputs": [],
   "source": [
    "vep_counts_raw = read.table(file.path(full_path, \"figures/vep_counts_AM_only.txt\"), sep=\"\\t\", header=TRUE)\n",
    "\n",
    "vep_counts = vep_counts_raw %>%\n",
    "    filter(FoldX_cat %in% c(\"destabilizing\", \"neutral\")) %>%\n",
    "    mutate(AM_cat = case_when(\n",
    "        AM_cat == 'ambiguous' ~ 'amb.',\n",
    "        TRUE ~ AM_cat)\n",
    "    )\n",
    "\n",
    "vep_counts$FoldX_cat = factor(vep_counts$FoldX_cat, levels = c('neutral', 'destabilizing'))\n",
    "vep_counts$AM_cat = factor(vep_counts$AM_cat, levels = c('benign', 'amb.', 'pathogenic'))"
   ]
  },
  {
   "cell_type": "code",
   "execution_count": null,
   "id": "1ca03b80",
   "metadata": {},
   "outputs": [],
   "source": [
    "options(repr.plot.width=6, repr.plot.height=2)\n",
    "ggplot(data = vep_counts,\n",
    "       aes(axis1 = FoldX_cat,\n",
    "           axis2 = AM_cat,\n",
    "           y = count)) +\n",
    "    geom_alluvium(aes(fill = FoldX_cat), width=1/3, alpha=0.9) +\n",
    "    geom_stratum(alpha=0.7, width=1/3) +\n",
    "    geom_text(stat = \"stratum\",\n",
    "              aes(label = after_stat(stratum)), size=3) +\n",
    "    scale_fill_manual(values=c('grey60', '#e55c5c'))+\n",
    "    scale_x_discrete(limits = c(\"FoldX\", \"AlphaMissense\")) +\n",
    "    ylab('No. Mutations') +\n",
    "    coord_flip() +\n",
    "    theme_classic() +\n",
    "    theme(axis.text = element_text(color = \"black\"))\n",
    "\n",
    "figure_path = file.path(full_path, \"figures/stability_C.pdf\")\n",
    "ggsave(filename = figure_path, plot = last_plot(), width = 6, height = 2.5, device = cairo_pdf, dpi = 300)"
   ]
  },
  {
   "cell_type": "code",
   "execution_count": null,
   "id": "949f8090",
   "metadata": {},
   "outputs": [],
   "source": []
  }
 ],
 "metadata": {
  "kernelspec": {
   "display_name": "R",
   "language": "R",
   "name": "ir"
  },
  "language_info": {
   "codemirror_mode": "r",
   "file_extension": ".r",
   "mimetype": "text/x-r-source",
   "name": "R",
   "pygments_lexer": "r",
   "version": "4.1.1"
  }
 },
 "nbformat": 4,
 "nbformat_minor": 5
}
