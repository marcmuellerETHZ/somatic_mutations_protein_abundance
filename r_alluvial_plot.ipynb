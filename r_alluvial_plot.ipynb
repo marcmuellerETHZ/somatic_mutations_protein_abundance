{
 "cells": [
  {
   "cell_type": "code",
   "execution_count": null,
   "id": "6ce96370",
   "metadata": {},
   "outputs": [],
   "source": [
    "library(tidyverse)\n",
    "library(ggalluvial)\n",
    "library(repr)"
   ]
  },
  {
   "cell_type": "code",
   "execution_count": null,
   "id": "c99694c9",
   "metadata": {},
   "outputs": [],
   "source": [
    "folder_name = \"data_processing_240525_1828\"\n",
    "full_path = file.path(\"data_computed\", folder_name)\n",
    "vep_counts_raw = read.table(file.path(full_path, \"figures/vep_counts.txt\"), sep=\"\\t\", header=TRUE)"
   ]
  },
  {
   "cell_type": "code",
   "execution_count": null,
   "id": "b064a399",
   "metadata": {},
   "outputs": [],
   "source": [
    "vep_counts = vep_counts_raw %>%\n",
    "    filter(FoldX_cat %in% c(\"destabilizing\", \"neutral\")) %>%\n",
    "    mutate(AM_cat = case_when(\n",
    "        AM_cat == 'ambiguous' ~ 'amb.',\n",
    "        TRUE ~ AM_cat)\n",
    "    )\n",
    "\n",
    "vep_counts$FoldX_cat = factor(vep_counts$FoldX_cat, levels = c('neutral', 'destabilizing'))\n",
    "vep_counts$AM_cat = factor(vep_counts$AM_cat, levels = c('benign', 'amb.', 'pathogenic'))\n",
    "vep_counts$ESM_cat = factor(vep_counts$ESM_cat, levels = c('benign','pathogenic'))"
   ]
  },
  {
   "cell_type": "code",
   "execution_count": null,
   "id": "e9c921a0",
   "metadata": {},
   "outputs": [],
   "source": [
    "options(repr.plot.width=6, repr.plot.height=2.5)\n",
    "ggplot(data = vep_counts,\n",
    "       aes(axis1 = FoldX_cat,\n",
    "           axis2 = AM_cat,\n",
    "           axis3 = ESM_cat,\n",
    "           y = count)) +\n",
    "    geom_alluvium(aes(fill = FoldX_cat), width=1/2, alpha=0.9) +\n",
    "    geom_stratum(alpha=0.7, width=1/2) +\n",
    "    geom_text(stat = \"stratum\",\n",
    "              aes(label = after_stat(stratum)), size=3) +\n",
    "    scale_fill_manual(values=c('grey60', '#e55c5c'))+\n",
    "    scale_x_discrete(limits = c(\"FoldX\", \"AlphaMissense\", \"ESM1b\")) +\n",
    "    ylab('No. mutations') +\n",
    "    coord_flip() +\n",
    "    theme_classic() +\n",
    "    theme(axis.text = element_text(color = \"black\"))\n",
    "\n",
    "figure_path = file.path(full_path, \"figures/alluvial.pdf\")\n",
    "ggsave(filename = figure_path, plot = last_plot(), width = 6, height = 2.5, device = cairo_pdf, dpi = 300)"
   ]
  },
  {
   "cell_type": "code",
   "execution_count": null,
   "id": "9f06f234",
   "metadata": {},
   "outputs": [],
   "source": [
    "vep_counts_raw = read.table(file.path(full_path, \"figures/vep_counts_AM_only.txt\"), sep=\"\\t\", header=TRUE)\n",
    "\n",
    "vep_counts = vep_counts_raw %>%\n",
    "    filter(FoldX_cat %in% c(\"destabilizing\", \"neutral\")) %>%\n",
    "    mutate(AM_cat = case_when(\n",
    "        AM_cat == 'ambiguous' ~ 'amb.',\n",
    "        TRUE ~ AM_cat)\n",
    "    )\n",
    "\n",
    "vep_counts$FoldX_cat = factor(vep_counts$FoldX_cat, levels = c('neutral', 'destabilizing'))\n",
    "vep_counts$AM_cat = factor(vep_counts$AM_cat, levels = c('benign', 'amb.', 'pathogenic'))"
   ]
  },
  {
   "cell_type": "code",
   "execution_count": null,
   "id": "1ca03b80",
   "metadata": {},
   "outputs": [],
   "source": [
    "options(repr.plot.width=6, repr.plot.height=2)\n",
    "ggplot(data = vep_counts,\n",
    "       aes(axis1 = FoldX_cat,\n",
    "           axis2 = AM_cat,\n",
    "           y = count)) +\n",
    "    geom_alluvium(aes(fill = FoldX_cat), width=1/3, alpha=0.9) +\n",
    "    geom_stratum(alpha=0.7, width=1/3) +\n",
    "    geom_text(stat = \"stratum\",\n",
    "              aes(label = after_stat(stratum)), size=3) +\n",
    "    scale_fill_manual(values=c('grey60', '#e55c5c'))+\n",
    "    scale_x_discrete(limits = c(\"FoldX\", \"AlphaMissense\")) +\n",
    "    ylab('No. Mutations') +\n",
    "    coord_flip() +\n",
    "    theme_classic() +\n",
    "    theme(axis.text = element_text(color = \"black\"))\n",
    "\n",
    "figure_path = file.path(full_path, \"figures/stability_C.pdf\")\n",
    "ggsave(filename = figure_path, plot = last_plot(), width = 6, height = 2.5, device = cairo_pdf, dpi = 300)"
   ]
  },
  {
   "cell_type": "code",
   "execution_count": null,
   "id": "949f8090",
   "metadata": {},
   "outputs": [],
   "source": []
  }
 ],
 "metadata": {
  "kernelspec": {
   "display_name": "R",
   "language": "R",
   "name": "ir"
  },
  "language_info": {
   "codemirror_mode": "r",
   "file_extension": ".r",
   "mimetype": "text/x-r-source",
   "name": "R",
   "pygments_lexer": "r",
   "version": "4.1.1"
  }
 },
 "nbformat": 4,
 "nbformat_minor": 5
}
